{
 "cells": [
  {
   "cell_type": "code",
   "execution_count": 1,
   "id": "c7fae107",
   "metadata": {},
   "outputs": [],
   "source": [
    "import cv2\n",
    "import os\n",
    "import pandas as pd\n",
    "import matplotlib.pyplot as plt\n",
    "import numpy as np\n",
    "from tqdm import tqdm\n",
    "from sklearn.model_selection import train_test_split\n",
    "from sklearn.svm import SVC\n",
    "from sklearn.metrics import accuracy_score\n",
    "%matplotlib inline"
   ]
  },
  {
   "cell_type": "markdown",
   "id": "104895ef",
   "metadata": {},
   "source": [
    "# Helper functions"
   ]
  },
  {
   "cell_type": "code",
   "execution_count": 2,
   "id": "558a78e1",
   "metadata": {},
   "outputs": [],
   "source": [
    "def imread(img_path):\n",
    "    img = cv2.imread(img_path)\n",
    "    img = cv2.cvtColor(img, cv2.COLOR_BGR2RGB)\n",
    "    return img\n",
    "\n",
    "def imshow(img, figsize=(5, 5)):\n",
    "    plt.figure(figsize=figsize)\n",
    "    plt.imshow(img, cmap='gray')\n",
    "    plt.show()\n",
    "    \n",
    "def rgb2bin(img_rgb):\n",
    "    img_gray = cv2.cvtColor(img_rgb, cv2.COLOR_RGB2GRAY)\n",
    "    t, img_bin = cv2.threshold(\n",
    "        img_gray, 0, 255, cv2.THRESH_OTSU|cv2.THRESH_BINARY_INV\n",
    "    )\n",
    "    return img_bin\n",
    "\n",
    "def find_best_contour(img_rgb):\n",
    "    img_bin = rgb2bin(img_rgb)\n",
    "    contours, h = cv2.findContours(\n",
    "        img_bin, cv2.RETR_EXTERNAL, cv2.CHAIN_APPROX_NONE\n",
    "    )\n",
    "    best_contour = max(contours, key=cv2.contourArea)\n",
    "    return best_contour\n",
    "\n",
    "def chain_hist(img_rgb):\n",
    "\n",
    "    best_contour = find_best_contour(img_rgb)\n",
    "    \n",
    "    lookup_table = {\n",
    "        (1, 0): 0,\n",
    "        (1, -1): 1,\n",
    "        (0, -1): 2,\n",
    "        (-1, -1): 3,\n",
    "        (-1, 0): 4,\n",
    "        (-1, 1): 5,\n",
    "        (0, 1): 6,\n",
    "        (1, 1): 7\n",
    "    }\n",
    "\n",
    "    hist = np.zeros((8,))\n",
    "    for i in range(len(best_contour)-1):\n",
    "        pt1 = best_contour[i][0]\n",
    "        pt2 = best_contour[i+1][0]\n",
    "        dx = pt2[0] - pt1[0]\n",
    "        dy = pt2[1] - pt1[1]\n",
    "        code = lookup_table[(dx, dy)]\n",
    "        hist[code] += 1\n",
    "\n",
    "    return hist/hist.sum()\n",
    "\n",
    "def draw_contours(img, contours, index=-1, color=(255, 0, 0), thickness=2):\n",
    "    img_copy = img.copy()\n",
    "    cv2.drawContours(img_copy, contours, index, color, thickness)\n",
    "    imshow(img_copy)\n",
    "    \n",
    "def putText(img, contour, text):\n",
    "    extLeft = tuple(contour[contour[:, :, 0].argmin()][0])\n",
    "    extRight = tuple(contour[contour[:, :, 0].argmax()][0])\n",
    "    extTop = tuple(contour[contour[:, :, 1].argmin()][0])\n",
    "    extBot = tuple(contour[contour[:, :, 1].argmax()][0])\n",
    "    x_min , x_max , y_max, y_min = extLeft[0] , extRight[0] , extBot[1] , extTop[1]\n",
    "    \n",
    "    \n",
    "    cv2.putText(img, text, (x_min,y_min-5), cv2.FONT_HERSHEY_SIMPLEX , 0.5, \n",
    "                  (0, 0, 255), 1, cv2.LINE_AA, False)"
   ]
  },
  {
   "cell_type": "markdown",
   "id": "d2ec7e74",
   "metadata": {},
   "source": [
    "# Using Support Vector Machine for shape classification"
   ]
  },
  {
   "cell_type": "markdown",
   "id": "9782db0e",
   "metadata": {},
   "source": [
    "## Creating a DataFrame for our dataset"
   ]
  },
  {
   "cell_type": "code",
   "execution_count": 3,
   "id": "2f68ad1a",
   "metadata": {},
   "outputs": [],
   "source": [
    "def create_df(data_path):\n",
    "    \n",
    "    # the class_dict is a mapping between class name and value\n",
    "    class_dict = {\n",
    "        'circle': 0,\n",
    "        'square': 1,\n",
    "        'star': 2,\n",
    "        'triangle': 3\n",
    "    }\n",
    "    \n",
    "    # we store image paths and outputs here\n",
    "    df = []\n",
    "    \n",
    "    # for each class\n",
    "    for class_name, class_value in class_dict.items():\n",
    "        class_folder = os.path.join(data_path, class_name)\n",
    "        # for each image in class folder\n",
    "        for f in os.listdir(class_folder):\n",
    "            f_path = os.path.join(class_folder, f)\n",
    "            # if this is a \"png\" file, add its path and output\n",
    "            if f_path.lower().endswith('.png'):\n",
    "                df.append([f_path, class_value])\n",
    "    \n",
    "    # create a dataframe of image paths and outputs\n",
    "    df = pd.DataFrame(df, columns=['path', 'output'])\n",
    "    \n",
    "    return df"
   ]
  },
  {
   "cell_type": "code",
   "execution_count": 4,
   "id": "9db050c2",
   "metadata": {},
   "outputs": [
    {
     "data": {
      "text/html": [
       "<div>\n",
       "<style scoped>\n",
       "    .dataframe tbody tr th:only-of-type {\n",
       "        vertical-align: middle;\n",
       "    }\n",
       "\n",
       "    .dataframe tbody tr th {\n",
       "        vertical-align: top;\n",
       "    }\n",
       "\n",
       "    .dataframe thead th {\n",
       "        text-align: right;\n",
       "    }\n",
       "</style>\n",
       "<table border=\"1\" class=\"dataframe\">\n",
       "  <thead>\n",
       "    <tr style=\"text-align: right;\">\n",
       "      <th></th>\n",
       "      <th>path</th>\n",
       "      <th>output</th>\n",
       "    </tr>\n",
       "  </thead>\n",
       "  <tbody>\n",
       "    <tr>\n",
       "      <th>0</th>\n",
       "      <td>archive\\shapes\\circle\\0.png</td>\n",
       "      <td>0</td>\n",
       "    </tr>\n",
       "    <tr>\n",
       "      <th>1</th>\n",
       "      <td>archive\\shapes\\circle\\1.png</td>\n",
       "      <td>0</td>\n",
       "    </tr>\n",
       "    <tr>\n",
       "      <th>2</th>\n",
       "      <td>archive\\shapes\\circle\\10.png</td>\n",
       "      <td>0</td>\n",
       "    </tr>\n",
       "    <tr>\n",
       "      <th>3</th>\n",
       "      <td>archive\\shapes\\circle\\100.png</td>\n",
       "      <td>0</td>\n",
       "    </tr>\n",
       "    <tr>\n",
       "      <th>4</th>\n",
       "      <td>archive\\shapes\\circle\\1000.png</td>\n",
       "      <td>0</td>\n",
       "    </tr>\n",
       "    <tr>\n",
       "      <th>...</th>\n",
       "      <td>...</td>\n",
       "      <td>...</td>\n",
       "    </tr>\n",
       "    <tr>\n",
       "      <th>14965</th>\n",
       "      <td>archive\\shapes\\triangle\\995.png</td>\n",
       "      <td>3</td>\n",
       "    </tr>\n",
       "    <tr>\n",
       "      <th>14966</th>\n",
       "      <td>archive\\shapes\\triangle\\996.png</td>\n",
       "      <td>3</td>\n",
       "    </tr>\n",
       "    <tr>\n",
       "      <th>14967</th>\n",
       "      <td>archive\\shapes\\triangle\\997.png</td>\n",
       "      <td>3</td>\n",
       "    </tr>\n",
       "    <tr>\n",
       "      <th>14968</th>\n",
       "      <td>archive\\shapes\\triangle\\998.png</td>\n",
       "      <td>3</td>\n",
       "    </tr>\n",
       "    <tr>\n",
       "      <th>14969</th>\n",
       "      <td>archive\\shapes\\triangle\\999.png</td>\n",
       "      <td>3</td>\n",
       "    </tr>\n",
       "  </tbody>\n",
       "</table>\n",
       "<p>14970 rows × 2 columns</p>\n",
       "</div>"
      ],
      "text/plain": [
       "                                  path  output\n",
       "0          archive\\shapes\\circle\\0.png       0\n",
       "1          archive\\shapes\\circle\\1.png       0\n",
       "2         archive\\shapes\\circle\\10.png       0\n",
       "3        archive\\shapes\\circle\\100.png       0\n",
       "4       archive\\shapes\\circle\\1000.png       0\n",
       "...                                ...     ...\n",
       "14965  archive\\shapes\\triangle\\995.png       3\n",
       "14966  archive\\shapes\\triangle\\996.png       3\n",
       "14967  archive\\shapes\\triangle\\997.png       3\n",
       "14968  archive\\shapes\\triangle\\998.png       3\n",
       "14969  archive\\shapes\\triangle\\999.png       3\n",
       "\n",
       "[14970 rows x 2 columns]"
      ]
     },
     "execution_count": 4,
     "metadata": {},
     "output_type": "execute_result"
    }
   ],
   "source": [
    "data = create_df(r'archive\\shapes')\n",
    "data"
   ]
  },
  {
   "cell_type": "markdown",
   "id": "e222bb1e",
   "metadata": {},
   "source": [
    "## Extracting features"
   ]
  },
  {
   "cell_type": "code",
   "execution_count": 5,
   "id": "52d3e4c7",
   "metadata": {},
   "outputs": [],
   "source": [
    "def extract_features(img_paths):\n",
    "    n = len(img_paths)\n",
    "    X = np.zeros((n, 8))\n",
    "    for i in tqdm(range(n)):\n",
    "        f_path = img_paths[i]\n",
    "        img = imread(f_path)\n",
    "        features = chain_hist(img)\n",
    "        X[i] = features\n",
    "    return X"
   ]
  },
  {
   "cell_type": "code",
   "execution_count": 6,
   "id": "e634a334",
   "metadata": {},
   "outputs": [
    {
     "name": "stderr",
     "output_type": "stream",
     "text": [
      "100%|███████████████████████████████████████████████████████████████████████████| 14970/14970 [00:21<00:00, 685.81it/s]\n"
     ]
    }
   ],
   "source": [
    "X = extract_features(data['path'])"
   ]
  },
  {
   "cell_type": "code",
   "execution_count": 7,
   "id": "2400fb78",
   "metadata": {},
   "outputs": [
    {
     "data": {
      "text/plain": [
       "array([[0.18541033, 0.0668693 , 0.17325228, 0.07902736, 0.17629179,\n",
       "        0.06079027, 0.19148936, 0.0668693 ],\n",
       "       [0.18292683, 0.07012195, 0.17073171, 0.07926829, 0.17682927,\n",
       "        0.06097561, 0.19207317, 0.06707317],\n",
       "       [0.18960245, 0.06422018, 0.17737003, 0.0795107 , 0.16819572,\n",
       "        0.07033639, 0.18348624, 0.06727829]])"
      ]
     },
     "execution_count": 7,
     "metadata": {},
     "output_type": "execute_result"
    }
   ],
   "source": [
    "X[0:3]"
   ]
  },
  {
   "cell_type": "code",
   "execution_count": 8,
   "id": "3942ed52",
   "metadata": {},
   "outputs": [],
   "source": [
    "y = data['output']"
   ]
  },
  {
   "cell_type": "markdown",
   "id": "35a08e2f",
   "metadata": {},
   "source": [
    "## Splitting dataset"
   ]
  },
  {
   "cell_type": "code",
   "execution_count": 9,
   "id": "edc3498f",
   "metadata": {},
   "outputs": [],
   "source": [
    "X_train, X_test, y_train, y_test = train_test_split(\n",
    "    X, y, test_size=0.30, random_state=0\n",
    ")"
   ]
  },
  {
   "cell_type": "markdown",
   "id": "864ec29f",
   "metadata": {},
   "source": [
    "## Training"
   ]
  },
  {
   "cell_type": "code",
   "execution_count": 10,
   "id": "aeb79b4d",
   "metadata": {},
   "outputs": [
    {
     "data": {
      "text/plain": [
       "SVC()"
      ]
     },
     "execution_count": 10,
     "metadata": {},
     "output_type": "execute_result"
    }
   ],
   "source": [
    "model = SVC()\n",
    "model.fit(X_train, y_train)"
   ]
  },
  {
   "cell_type": "markdown",
   "id": "730f510b",
   "metadata": {},
   "source": [
    "## Calculating accuracy"
   ]
  },
  {
   "cell_type": "code",
   "execution_count": 11,
   "id": "aa712de9",
   "metadata": {},
   "outputs": [
    {
     "name": "stdout",
     "output_type": "stream",
     "text": [
      "0.9370168909247065\n",
      "0.9423291026497439\n"
     ]
    }
   ],
   "source": [
    "y_pred_train = model.predict(X_train)\n",
    "y_pred_test = model.predict(X_test)\n",
    "\n",
    "print(accuracy_score(y_train, y_pred_train))\n",
    "print(accuracy_score(y_test, y_pred_test))"
   ]
  },
  {
   "cell_type": "markdown",
   "id": "5fc189c8",
   "metadata": {},
   "source": [
    "## Testing with images outside the dataset"
   ]
  },
  {
   "cell_type": "code",
   "execution_count": 12,
   "id": "24120b06",
   "metadata": {},
   "outputs": [],
   "source": [
    "def test_model(model, img_path):\n",
    "    classes = ['circle', 'square', 'star', 'triangle']\n",
    "    img = imread(img_path)\n",
    "    x = chain_hist(img)\n",
    "    c = model.predict([x])[0]\n",
    "    print(img_path, '->', classes[c])"
   ]
  },
  {
   "cell_type": "code",
   "execution_count": 13,
   "id": "4586256c",
   "metadata": {},
   "outputs": [
    {
     "name": "stdout",
     "output_type": "stream",
     "text": [
      "images/square.png -> square\n",
      "images/star.png -> star\n",
      "images/circle.png -> square\n",
      "images/triangle.png -> triangle\n",
      "images/square-hollow.png -> square\n",
      "images/star-hollow.png -> star\n",
      "images/circle-hollow.png -> square\n",
      "images/triangle-hollow.png -> triangle\n"
     ]
    }
   ],
   "source": [
    "test_model(model, 'images/square.png')\n",
    "test_model(model, 'images/star.png')\n",
    "test_model(model, 'images/circle.png')\n",
    "test_model(model, 'images/triangle.png')\n",
    "test_model(model, 'images/square-hollow.png')\n",
    "test_model(model, 'images/star-hollow.png')\n",
    "test_model(model, 'images/circle-hollow.png')\n",
    "test_model(model, 'images/triangle-hollow.png')"
   ]
  },
  {
   "cell_type": "markdown",
   "id": "8fbe16ee",
   "metadata": {},
   "source": [
    "# Object detection example"
   ]
  },
  {
   "cell_type": "code",
   "execution_count": 14,
   "id": "9213c679",
   "metadata": {},
   "outputs": [
    {
     "data": {
      "image/png": "[encoded data removed]",
      "text/plain": [
       "<Figure size 500x500 with 1 Axes>"
      ]
     },
     "metadata": {},
     "output_type": "display_data"
    }
   ],
   "source": [
    "img = imread('images/shapes.png')\n",
    "imshow(img)"
   ]
  },
  {
   "cell_type": "code",
   "execution_count": 15,
   "id": "d553cad5",
   "metadata": {},
   "outputs": [
    {
     "data": {
      "text/plain": [
       "array([[[255, 255, 255],\n",
       "        [255, 255, 255],\n",
       "        [255, 255, 255],\n",
       "        ...,\n",
       "        [255, 255, 255],\n",
       "        [255, 255, 255],\n",
       "        [255, 255, 255]],\n",
       "\n",
       "       [[255, 255, 255],\n",
       "        [255, 255, 255],\n",
       "        [255, 255, 255],\n",
       "        ...,\n",
       "        [255, 255, 255],\n",
       "        [255, 255, 255],\n",
       "        [255, 255, 255]],\n",
       "\n",
       "       [[255, 255, 255],\n",
       "        [255, 255, 255],\n",
       "        [255, 255, 255],\n",
       "        ...,\n",
       "        [255, 255, 255],\n",
       "        [255, 255, 255],\n",
       "        [255, 255, 255]],\n",
       "\n",
       "       ...,\n",
       "\n",
       "       [[255, 255, 255],\n",
       "        [255, 255, 255],\n",
       "        [255, 255, 255],\n",
       "        ...,\n",
       "        [255, 255, 255],\n",
       "        [255, 255, 255],\n",
       "        [255, 255, 255]],\n",
       "\n",
       "       [[255, 255, 255],\n",
       "        [255, 255, 255],\n",
       "        [255, 255, 255],\n",
       "        ...,\n",
       "        [255, 255, 255],\n",
       "        [255, 255, 255],\n",
       "        [255, 255, 255]],\n",
       "\n",
       "       [[255, 255, 255],\n",
       "        [255, 255, 255],\n",
       "        [255, 255, 255],\n",
       "        ...,\n",
       "        [255, 255, 255],\n",
       "        [255, 255, 255],\n",
       "        [255, 255, 255]]], dtype=uint8)"
      ]
     },
     "execution_count": 15,
     "metadata": {},
     "output_type": "execute_result"
    }
   ],
   "source": [
    "imgray = cv2.cvtColor(img, cv2.COLOR_BGR2GRAY)\n",
    "\n",
    "gray_inverted = cv2.bitwise_not(imgray)\n",
    "\n",
    "ret, thresh = cv2.threshold(gray_inverted, 0, 255, cv2.THRESH_BINARY + cv2.THRESH_OTSU)\n",
    "\n",
    "contours, _ = cv2.findContours(thresh, cv2.RETR_TREE, cv2.CHAIN_APPROX_NONE)\n",
    "\n",
    "\n",
    "cv2.drawContours(img, contours, -1, (0, 255, 0), 2) # -1 mean all contours   3 thickness \n"
   ]
  },
  {
   "cell_type": "code",
   "execution_count": 16,
   "id": "9557a999",
   "metadata": {},
   "outputs": [],
   "source": [
    "def chain_hist(best_contour):\n",
    "\n",
    "    lookup_table = {\n",
    "        (1, 0): 0,\n",
    "        (1, -1): 1,\n",
    "        (0, -1): 2,\n",
    "        (-1, -1): 3,\n",
    "        (-1, 0): 4,\n",
    "        (-1, 1): 5,\n",
    "        (0, 1): 6,\n",
    "        (1, 1): 7\n",
    "    }\n",
    "\n",
    "    hist = np.zeros((8,))\n",
    "    for i in range(len(best_contour)-1):\n",
    "        pt1 = best_contour[i][0]\n",
    "        pt2 = best_contour[i+1][0]\n",
    "        dx = pt2[0] - pt1[0]\n",
    "        dy = pt2[1] - pt1[1]\n",
    "        code = lookup_table[(dx, dy)]\n",
    "        hist[code] += 1\n",
    "\n",
    "    return hist/hist.sum()"
   ]
  },
  {
   "cell_type": "code",
   "execution_count": 17,
   "id": "6922f987",
   "metadata": {},
   "outputs": [],
   "source": [
    "X = np.zeros((len(contours), 8))\n",
    "cnt = 0\n",
    "for i in contours:\n",
    "    features = chain_hist(i)\n",
    "    X[cnt] = features\n",
    "    cnt += 1"
   ]
  },
  {
   "cell_type": "code",
   "execution_count": 18,
   "id": "5e64be72",
   "metadata": {},
   "outputs": [],
   "source": [
    "classes = ['circle', 'square', 'star', 'triangle']\n",
    "img_copy = img.copy()\n",
    "\n",
    "for i in range(len(X)):\n",
    "    c = model.predict([X[i]])[0]\n",
    "    putText(img_copy, contours[i], classes[c])\n",
    "\n",
    "cv2.imshow('Image', img_copy)\n",
    "cv2.waitKey(0)\n",
    "cv2.destroyAllWindows()"
   ]
  },
  {
   "cell_type": "code",
   "execution_count": null,
   "id": "e7bfdbd1",
   "metadata": {},
   "outputs": [],
   "source": []
  }
 ],
 "metadata": {
  "kernelspec": {
   "display_name": "Python 3 (ipykernel)",
   "language": "python",
   "name": "python3"
  },
  "language_info": {
   "codemirror_mode": {
    "name": "ipython",
    "version": 3
   },
   "file_extension": ".py",
   "mimetype": "text/x-python",
   "name": "python",
   "nbconvert_exporter": "python",
   "pygments_lexer": "ipython3",
   "version": "3.9.12"
  }
 },
 "nbformat": 4,
 "nbformat_minor": 5
}
